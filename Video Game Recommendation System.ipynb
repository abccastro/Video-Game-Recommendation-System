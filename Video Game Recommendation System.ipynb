{
 "cells": [
  {
   "attachments": {},
   "cell_type": "markdown",
   "metadata": {},
   "source": [
    "## Video Game Recommendation System"
   ]
  },
  {
   "cell_type": "code",
   "execution_count": 1,
   "metadata": {},
   "outputs": [],
   "source": [
    "import pandas as pd\n",
    "import numpy as np\n",
    "import matplotlib.pyplot as plt\n",
    "import seaborn as sns\n",
    "import warnings\n",
    "\n",
    "from sklearn.neighbors import NearestNeighbors\n",
    "from sklearn.preprocessing import StandardScaler\n",
    "\n",
    "warnings.filterwarnings(\"ignore\")"
   ]
  },
  {
   "attachments": {},
   "cell_type": "markdown",
   "metadata": {},
   "source": [
    "### Importing and Transforming Dataset\n",
    "\n",
    "The information used in the dataset was obtained from <a href=\"https://www.kaggle.com/datasets/rush4ratio/video-game-sales-with-ratings\">Video Game Sales with Ratings</a> in Kaggle, which were web scraped by Gregory Smith from VGChartz Video Games Sales. The collection of data includes details such as the game's title, genre, the platform it runs on, the company that published it, and other relevant information."
   ]
  },
  {
   "cell_type": "code",
   "execution_count": 2,
   "metadata": {},
   "outputs": [
    {
     "name": "stdout",
     "output_type": "stream",
     "text": [
      "No. of records: (16719, 16)\n"
     ]
    },
    {
     "data": {
      "text/html": [
       "<div>\n",
       "<style scoped>\n",
       "    .dataframe tbody tr th:only-of-type {\n",
       "        vertical-align: middle;\n",
       "    }\n",
       "\n",
       "    .dataframe tbody tr th {\n",
       "        vertical-align: top;\n",
       "    }\n",
       "\n",
       "    .dataframe thead th {\n",
       "        text-align: right;\n",
       "    }\n",
       "</style>\n",
       "<table border=\"1\" class=\"dataframe\">\n",
       "  <thead>\n",
       "    <tr style=\"text-align: right;\">\n",
       "      <th></th>\n",
       "      <th>Name</th>\n",
       "      <th>Platform</th>\n",
       "      <th>Year_of_Release</th>\n",
       "      <th>Genre</th>\n",
       "      <th>Publisher</th>\n",
       "      <th>NA_Sales</th>\n",
       "      <th>EU_Sales</th>\n",
       "      <th>JP_Sales</th>\n",
       "      <th>Other_Sales</th>\n",
       "      <th>Global_Sales</th>\n",
       "      <th>Critic_Score</th>\n",
       "      <th>Critic_Count</th>\n",
       "      <th>User_Score</th>\n",
       "      <th>User_Count</th>\n",
       "      <th>Developer</th>\n",
       "      <th>Rating</th>\n",
       "    </tr>\n",
       "  </thead>\n",
       "  <tbody>\n",
       "    <tr>\n",
       "      <th>0</th>\n",
       "      <td>Wii Sports</td>\n",
       "      <td>Wii</td>\n",
       "      <td>2006.0</td>\n",
       "      <td>Sports</td>\n",
       "      <td>Nintendo</td>\n",
       "      <td>41.36</td>\n",
       "      <td>28.96</td>\n",
       "      <td>3.77</td>\n",
       "      <td>8.45</td>\n",
       "      <td>82.53</td>\n",
       "      <td>76.0</td>\n",
       "      <td>51.0</td>\n",
       "      <td>8</td>\n",
       "      <td>322.0</td>\n",
       "      <td>Nintendo</td>\n",
       "      <td>E</td>\n",
       "    </tr>\n",
       "    <tr>\n",
       "      <th>1</th>\n",
       "      <td>Super Mario Bros.</td>\n",
       "      <td>NES</td>\n",
       "      <td>1985.0</td>\n",
       "      <td>Platform</td>\n",
       "      <td>Nintendo</td>\n",
       "      <td>29.08</td>\n",
       "      <td>3.58</td>\n",
       "      <td>6.81</td>\n",
       "      <td>0.77</td>\n",
       "      <td>40.24</td>\n",
       "      <td>NaN</td>\n",
       "      <td>NaN</td>\n",
       "      <td>NaN</td>\n",
       "      <td>NaN</td>\n",
       "      <td>NaN</td>\n",
       "      <td>NaN</td>\n",
       "    </tr>\n",
       "    <tr>\n",
       "      <th>2</th>\n",
       "      <td>Mario Kart Wii</td>\n",
       "      <td>Wii</td>\n",
       "      <td>2008.0</td>\n",
       "      <td>Racing</td>\n",
       "      <td>Nintendo</td>\n",
       "      <td>15.68</td>\n",
       "      <td>12.76</td>\n",
       "      <td>3.79</td>\n",
       "      <td>3.29</td>\n",
       "      <td>35.52</td>\n",
       "      <td>82.0</td>\n",
       "      <td>73.0</td>\n",
       "      <td>8.3</td>\n",
       "      <td>709.0</td>\n",
       "      <td>Nintendo</td>\n",
       "      <td>E</td>\n",
       "    </tr>\n",
       "    <tr>\n",
       "      <th>3</th>\n",
       "      <td>Wii Sports Resort</td>\n",
       "      <td>Wii</td>\n",
       "      <td>2009.0</td>\n",
       "      <td>Sports</td>\n",
       "      <td>Nintendo</td>\n",
       "      <td>15.61</td>\n",
       "      <td>10.93</td>\n",
       "      <td>3.28</td>\n",
       "      <td>2.95</td>\n",
       "      <td>32.77</td>\n",
       "      <td>80.0</td>\n",
       "      <td>73.0</td>\n",
       "      <td>8</td>\n",
       "      <td>192.0</td>\n",
       "      <td>Nintendo</td>\n",
       "      <td>E</td>\n",
       "    </tr>\n",
       "    <tr>\n",
       "      <th>4</th>\n",
       "      <td>Pokemon Red/Pokemon Blue</td>\n",
       "      <td>GB</td>\n",
       "      <td>1996.0</td>\n",
       "      <td>Role-Playing</td>\n",
       "      <td>Nintendo</td>\n",
       "      <td>11.27</td>\n",
       "      <td>8.89</td>\n",
       "      <td>10.22</td>\n",
       "      <td>1.00</td>\n",
       "      <td>31.37</td>\n",
       "      <td>NaN</td>\n",
       "      <td>NaN</td>\n",
       "      <td>NaN</td>\n",
       "      <td>NaN</td>\n",
       "      <td>NaN</td>\n",
       "      <td>NaN</td>\n",
       "    </tr>\n",
       "  </tbody>\n",
       "</table>\n",
       "</div>"
      ],
      "text/plain": [
       "                       Name Platform  Year_of_Release         Genre Publisher  \\\n",
       "0                Wii Sports      Wii           2006.0        Sports  Nintendo   \n",
       "1         Super Mario Bros.      NES           1985.0      Platform  Nintendo   \n",
       "2            Mario Kart Wii      Wii           2008.0        Racing  Nintendo   \n",
       "3         Wii Sports Resort      Wii           2009.0        Sports  Nintendo   \n",
       "4  Pokemon Red/Pokemon Blue       GB           1996.0  Role-Playing  Nintendo   \n",
       "\n",
       "   NA_Sales  EU_Sales  JP_Sales  Other_Sales  Global_Sales  Critic_Score  \\\n",
       "0     41.36     28.96      3.77         8.45         82.53          76.0   \n",
       "1     29.08      3.58      6.81         0.77         40.24           NaN   \n",
       "2     15.68     12.76      3.79         3.29         35.52          82.0   \n",
       "3     15.61     10.93      3.28         2.95         32.77          80.0   \n",
       "4     11.27      8.89     10.22         1.00         31.37           NaN   \n",
       "\n",
       "   Critic_Count User_Score  User_Count Developer Rating  \n",
       "0          51.0          8       322.0  Nintendo      E  \n",
       "1           NaN        NaN         NaN       NaN    NaN  \n",
       "2          73.0        8.3       709.0  Nintendo      E  \n",
       "3          73.0          8       192.0  Nintendo      E  \n",
       "4           NaN        NaN         NaN       NaN    NaN  "
      ]
     },
     "execution_count": 2,
     "metadata": {},
     "output_type": "execute_result"
    }
   ],
   "source": [
    "video_games_df = pd.read_csv(\"./Dataset/Video Games Sales.csv\")\n",
    "\n",
    "print(f\"No. of records: {video_games_df.shape}\")\n",
    "video_games_df.head(5)"
   ]
  },
  {
   "attachments": {},
   "cell_type": "markdown",
   "metadata": {},
   "source": [
    "We removed certain features from the dataset as they are not significant for our recommendation system."
   ]
  },
  {
   "cell_type": "code",
   "execution_count": 3,
   "metadata": {},
   "outputs": [
    {
     "name": "stdout",
     "output_type": "stream",
     "text": [
      "<class 'pandas.core.frame.DataFrame'>\n",
      "RangeIndex: 16719 entries, 0 to 16718\n",
      "Data columns (total 6 columns):\n",
      " #   Column        Non-Null Count  Dtype  \n",
      "---  ------        --------------  -----  \n",
      " 0   Name          16717 non-null  object \n",
      " 1   Platform      16719 non-null  object \n",
      " 2   Genre         16717 non-null  object \n",
      " 3   Critic_Score  8137 non-null   float64\n",
      " 4   User_Score    10015 non-null  object \n",
      " 5   Rating        9950 non-null   object \n",
      "dtypes: float64(1), object(5)\n",
      "memory usage: 783.8+ KB\n"
     ]
    }
   ],
   "source": [
    "video_games_filtered_df = video_games_df[['Name', 'Platform', 'Genre', 'Critic_Score', 'User_Score', 'Rating']]\n",
    "video_games_filtered_df.info()"
   ]
  },
  {
   "attachments": {},
   "cell_type": "markdown",
   "metadata": {},
   "source": [
    "### Exploratory Data Analysis\n",
    "\n",
    "Check all missing values in the dataset for each feature"
   ]
  },
  {
   "cell_type": "code",
   "execution_count": 4,
   "metadata": {},
   "outputs": [
    {
     "data": {
      "text/plain": [
       "Critic_Score    8582\n",
       "Rating          6769\n",
       "User_Score      6704\n",
       "Name               2\n",
       "Genre              2\n",
       "Platform           0\n",
       "dtype: int64"
      ]
     },
     "execution_count": 4,
     "metadata": {},
     "output_type": "execute_result"
    }
   ],
   "source": [
    "video_games_filtered_df.isna().sum().sort_values(ascending=False)"
   ]
  },
  {
   "attachments": {},
   "cell_type": "markdown",
   "metadata": {},
   "source": [
    "Remove any data that is incomplete or missing in the `Name` and `Genre` features, and substitute the term `Unknown` for any missing information in the `Rating` field."
   ]
  },
  {
   "cell_type": "code",
   "execution_count": 5,
   "metadata": {},
   "outputs": [
    {
     "data": {
      "text/plain": [
       "Name      0\n",
       "Genre     0\n",
       "Rating    0\n",
       "dtype: int64"
      ]
     },
     "execution_count": 5,
     "metadata": {},
     "output_type": "execute_result"
    }
   ],
   "source": [
    "video_games_filtered_df.dropna(subset=['Name', 'Genre'], axis=0, inplace=True)\n",
    "video_games_filtered_df = video_games_filtered_df.reset_index(drop=True)\n",
    "\n",
    "video_games_filtered_df.fillna({'Rating' : 'Unknown'}, inplace=True)\n",
    "\n",
    "video_games_filtered_df[['Name', 'Genre', 'Rating']].isna().sum()"
   ]
  },
  {
   "attachments": {},
   "cell_type": "markdown",
   "metadata": {},
   "source": [
    "Examine the frequency of data types for each categorical feature: `Genre`, `Platform`, and `Rating`."
   ]
  },
  {
   "cell_type": "code",
   "execution_count": 6,
   "metadata": {},
   "outputs": [
    {
     "data": {
      "image/png": "[encoded data removed]",
      "text/plain": [
       "<Figure size 1500x400 with 1 Axes>"
      ]
     },
     "metadata": {},
     "output_type": "display_data"
    },
    {
     "data": {
      "image/png": "[encoded data removed]",
      "text/plain": [
       "<Figure size 1500x400 with 1 Axes>"
      ]
     },
     "metadata": {},
     "output_type": "display_data"
    },
    {
     "data": {
      "image/png": "[encoded data removed]",
      "text/plain": [
       "<Figure size 1500x400 with 1 Axes>"
      ]
     },
     "metadata": {},
     "output_type": "display_data"
    }
   ],
   "source": [
    "features = video_games_filtered_df[['Genre', 'Platform', 'Rating']].columns\n",
    "\n",
    "for idx, feature in enumerate(features):\n",
    "    plt.figure(figsize = (15,4))\n",
    "    sns.countplot(data=video_games_filtered_df, x=feature)\n",
    "plt.show()"
   ]
  },
  {
   "attachments": {},
   "cell_type": "markdown",
   "metadata": {},
   "source": [
    "Create additional features that correspond to the `User_Score` and `Critic_score` variables, and replace any missing or 'tbd' values with a specific substitute. The substitute will be calculated as the mean value of the `User_Score` or `Critic_score` variable within a particular genre, such as the average of all scores under the 'Action' category."
   ]
  },
  {
   "cell_type": "code",
   "execution_count": 7,
   "metadata": {},
   "outputs": [
    {
     "data": {
      "text/html": [
       "<div>\n",
       "<style scoped>\n",
       "    .dataframe tbody tr th:only-of-type {\n",
       "        vertical-align: middle;\n",
       "    }\n",
       "\n",
       "    .dataframe tbody tr th {\n",
       "        vertical-align: top;\n",
       "    }\n",
       "\n",
       "    .dataframe thead th {\n",
       "        text-align: right;\n",
       "    }\n",
       "</style>\n",
       "<table border=\"1\" class=\"dataframe\">\n",
       "  <thead>\n",
       "    <tr style=\"text-align: right;\">\n",
       "      <th></th>\n",
       "      <th>Name</th>\n",
       "      <th>Platform</th>\n",
       "      <th>Genre</th>\n",
       "      <th>Critic_Score</th>\n",
       "      <th>User_Score</th>\n",
       "      <th>Rating</th>\n",
       "      <th>Ave_Critic_Score</th>\n",
       "      <th>Ave_User_Score</th>\n",
       "    </tr>\n",
       "  </thead>\n",
       "  <tbody>\n",
       "    <tr>\n",
       "      <th>0</th>\n",
       "      <td>Wii Sports</td>\n",
       "      <td>Wii</td>\n",
       "      <td>Sports</td>\n",
       "      <td>76.0</td>\n",
       "      <td>8.0</td>\n",
       "      <td>E</td>\n",
       "      <td>71.968174</td>\n",
       "      <td>6.961197</td>\n",
       "    </tr>\n",
       "    <tr>\n",
       "      <th>1</th>\n",
       "      <td>Wii Sports Resort</td>\n",
       "      <td>Wii</td>\n",
       "      <td>Sports</td>\n",
       "      <td>80.0</td>\n",
       "      <td>8.0</td>\n",
       "      <td>E</td>\n",
       "      <td>71.968174</td>\n",
       "      <td>6.961197</td>\n",
       "    </tr>\n",
       "    <tr>\n",
       "      <th>2</th>\n",
       "      <td>Wii Fit</td>\n",
       "      <td>Wii</td>\n",
       "      <td>Sports</td>\n",
       "      <td>80.0</td>\n",
       "      <td>7.7</td>\n",
       "      <td>E</td>\n",
       "      <td>71.968174</td>\n",
       "      <td>6.961197</td>\n",
       "    </tr>\n",
       "    <tr>\n",
       "      <th>3</th>\n",
       "      <td>Wii Fit Plus</td>\n",
       "      <td>Wii</td>\n",
       "      <td>Sports</td>\n",
       "      <td>80.0</td>\n",
       "      <td>7.4</td>\n",
       "      <td>E</td>\n",
       "      <td>71.968174</td>\n",
       "      <td>6.961197</td>\n",
       "    </tr>\n",
       "    <tr>\n",
       "      <th>4</th>\n",
       "      <td>FIFA 16</td>\n",
       "      <td>PS4</td>\n",
       "      <td>Sports</td>\n",
       "      <td>82.0</td>\n",
       "      <td>4.3</td>\n",
       "      <td>E</td>\n",
       "      <td>71.968174</td>\n",
       "      <td>6.961197</td>\n",
       "    </tr>\n",
       "    <tr>\n",
       "      <th>...</th>\n",
       "      <td>...</td>\n",
       "      <td>...</td>\n",
       "      <td>...</td>\n",
       "      <td>...</td>\n",
       "      <td>...</td>\n",
       "      <td>...</td>\n",
       "      <td>...</td>\n",
       "      <td>...</td>\n",
       "    </tr>\n",
       "    <tr>\n",
       "      <th>16712</th>\n",
       "      <td>Codename: Panzers Complete Collection</td>\n",
       "      <td>PC</td>\n",
       "      <td>Strategy</td>\n",
       "      <td>NaN</td>\n",
       "      <td>NaN</td>\n",
       "      <td>Unknown</td>\n",
       "      <td>72.086093</td>\n",
       "      <td>7.295177</td>\n",
       "    </tr>\n",
       "    <tr>\n",
       "      <th>16713</th>\n",
       "      <td>Hospital Tycoon</td>\n",
       "      <td>PC</td>\n",
       "      <td>Strategy</td>\n",
       "      <td>51.0</td>\n",
       "      <td>3.8</td>\n",
       "      <td>E10+</td>\n",
       "      <td>72.086093</td>\n",
       "      <td>7.295177</td>\n",
       "    </tr>\n",
       "    <tr>\n",
       "      <th>16714</th>\n",
       "      <td>End of Nations</td>\n",
       "      <td>PC</td>\n",
       "      <td>Strategy</td>\n",
       "      <td>NaN</td>\n",
       "      <td>NaN</td>\n",
       "      <td>T</td>\n",
       "      <td>72.086093</td>\n",
       "      <td>7.295177</td>\n",
       "    </tr>\n",
       "    <tr>\n",
       "      <th>16715</th>\n",
       "      <td>Worms 2</td>\n",
       "      <td>PC</td>\n",
       "      <td>Strategy</td>\n",
       "      <td>NaN</td>\n",
       "      <td>8.1</td>\n",
       "      <td>K-A</td>\n",
       "      <td>72.086093</td>\n",
       "      <td>7.295177</td>\n",
       "    </tr>\n",
       "    <tr>\n",
       "      <th>16716</th>\n",
       "      <td>STORM: Frontline Nation</td>\n",
       "      <td>PC</td>\n",
       "      <td>Strategy</td>\n",
       "      <td>60.0</td>\n",
       "      <td>7.2</td>\n",
       "      <td>E10+</td>\n",
       "      <td>72.086093</td>\n",
       "      <td>7.295177</td>\n",
       "    </tr>\n",
       "  </tbody>\n",
       "</table>\n",
       "<p>16717 rows × 8 columns</p>\n",
       "</div>"
      ],
      "text/plain": [
       "                                        Name Platform     Genre  Critic_Score  \\\n",
       "0                                 Wii Sports      Wii    Sports          76.0   \n",
       "1                          Wii Sports Resort      Wii    Sports          80.0   \n",
       "2                                    Wii Fit      Wii    Sports          80.0   \n",
       "3                               Wii Fit Plus      Wii    Sports          80.0   \n",
       "4                                    FIFA 16      PS4    Sports          82.0   \n",
       "...                                      ...      ...       ...           ...   \n",
       "16712  Codename: Panzers Complete Collection       PC  Strategy           NaN   \n",
       "16713                        Hospital Tycoon       PC  Strategy          51.0   \n",
       "16714                         End of Nations       PC  Strategy           NaN   \n",
       "16715                                Worms 2       PC  Strategy           NaN   \n",
       "16716                STORM: Frontline Nation       PC  Strategy          60.0   \n",
       "\n",
       "       User_Score   Rating  Ave_Critic_Score  Ave_User_Score  \n",
       "0             8.0        E         71.968174        6.961197  \n",
       "1             8.0        E         71.968174        6.961197  \n",
       "2             7.7        E         71.968174        6.961197  \n",
       "3             7.4        E         71.968174        6.961197  \n",
       "4             4.3        E         71.968174        6.961197  \n",
       "...           ...      ...               ...             ...  \n",
       "16712         NaN  Unknown         72.086093        7.295177  \n",
       "16713         3.8     E10+         72.086093        7.295177  \n",
       "16714         NaN        T         72.086093        7.295177  \n",
       "16715         8.1      K-A         72.086093        7.295177  \n",
       "16716         7.2     E10+         72.086093        7.295177  \n",
       "\n",
       "[16717 rows x 8 columns]"
      ]
     },
     "execution_count": 7,
     "metadata": {},
     "output_type": "execute_result"
    }
   ],
   "source": [
    "# Replace 'tbd' value to NaN\n",
    "video_games_filtered_df['User_Score'] = np.where(video_games_filtered_df['User_Score'] == 'tbd', np.nan, video_games_filtered_df['User_Score']).astype(float)\n",
    "\n",
    "# Group the records by Genre, then aggregate them calculating the average of both  Critic Score and User Score\n",
    "video_game_score_mean = video_games_filtered_df[['Genre', 'Critic_Score', 'User_Score']].groupby('Genre', as_index=False).agg(Ave_Critic_Score = ('Critic_Score', 'mean'), \n",
    "                                                                                                                              Ave_User_Score = ('User_Score', 'mean'))\n",
    "\n",
    "# Merge the average scores with the main dataframe\n",
    "video_games_filtered_df = video_games_filtered_df.merge(video_game_score_mean, on='Genre')\n",
    "video_games_filtered_df"
   ]
  },
  {
   "cell_type": "code",
   "execution_count": 8,
   "metadata": {},
   "outputs": [
    {
     "data": {
      "text/html": [
       "<div>\n",
       "<style scoped>\n",
       "    .dataframe tbody tr th:only-of-type {\n",
       "        vertical-align: middle;\n",
       "    }\n",
       "\n",
       "    .dataframe tbody tr th {\n",
       "        vertical-align: top;\n",
       "    }\n",
       "\n",
       "    .dataframe thead th {\n",
       "        text-align: right;\n",
       "    }\n",
       "</style>\n",
       "<table border=\"1\" class=\"dataframe\">\n",
       "  <thead>\n",
       "    <tr style=\"text-align: right;\">\n",
       "      <th></th>\n",
       "      <th>Name</th>\n",
       "      <th>Platform</th>\n",
       "      <th>Genre</th>\n",
       "      <th>Critic_Score</th>\n",
       "      <th>User_Score</th>\n",
       "      <th>Rating</th>\n",
       "      <th>Ave_Critic_Score</th>\n",
       "      <th>Ave_User_Score</th>\n",
       "      <th>Critic_Score_Upd</th>\n",
       "      <th>User_Score_Upd</th>\n",
       "    </tr>\n",
       "  </thead>\n",
       "  <tbody>\n",
       "    <tr>\n",
       "      <th>0</th>\n",
       "      <td>Wii Sports</td>\n",
       "      <td>Wii</td>\n",
       "      <td>Sports</td>\n",
       "      <td>76.0</td>\n",
       "      <td>8.0</td>\n",
       "      <td>E</td>\n",
       "      <td>71.968174</td>\n",
       "      <td>6.961197</td>\n",
       "      <td>76.000000</td>\n",
       "      <td>8.000000</td>\n",
       "    </tr>\n",
       "    <tr>\n",
       "      <th>1</th>\n",
       "      <td>Wii Sports Resort</td>\n",
       "      <td>Wii</td>\n",
       "      <td>Sports</td>\n",
       "      <td>80.0</td>\n",
       "      <td>8.0</td>\n",
       "      <td>E</td>\n",
       "      <td>71.968174</td>\n",
       "      <td>6.961197</td>\n",
       "      <td>80.000000</td>\n",
       "      <td>8.000000</td>\n",
       "    </tr>\n",
       "    <tr>\n",
       "      <th>2</th>\n",
       "      <td>Wii Fit</td>\n",
       "      <td>Wii</td>\n",
       "      <td>Sports</td>\n",
       "      <td>80.0</td>\n",
       "      <td>7.7</td>\n",
       "      <td>E</td>\n",
       "      <td>71.968174</td>\n",
       "      <td>6.961197</td>\n",
       "      <td>80.000000</td>\n",
       "      <td>7.700000</td>\n",
       "    </tr>\n",
       "    <tr>\n",
       "      <th>3</th>\n",
       "      <td>Wii Fit Plus</td>\n",
       "      <td>Wii</td>\n",
       "      <td>Sports</td>\n",
       "      <td>80.0</td>\n",
       "      <td>7.4</td>\n",
       "      <td>E</td>\n",
       "      <td>71.968174</td>\n",
       "      <td>6.961197</td>\n",
       "      <td>80.000000</td>\n",
       "      <td>7.400000</td>\n",
       "    </tr>\n",
       "    <tr>\n",
       "      <th>4</th>\n",
       "      <td>FIFA 16</td>\n",
       "      <td>PS4</td>\n",
       "      <td>Sports</td>\n",
       "      <td>82.0</td>\n",
       "      <td>4.3</td>\n",
       "      <td>E</td>\n",
       "      <td>71.968174</td>\n",
       "      <td>6.961197</td>\n",
       "      <td>82.000000</td>\n",
       "      <td>4.300000</td>\n",
       "    </tr>\n",
       "    <tr>\n",
       "      <th>...</th>\n",
       "      <td>...</td>\n",
       "      <td>...</td>\n",
       "      <td>...</td>\n",
       "      <td>...</td>\n",
       "      <td>...</td>\n",
       "      <td>...</td>\n",
       "      <td>...</td>\n",
       "      <td>...</td>\n",
       "      <td>...</td>\n",
       "      <td>...</td>\n",
       "    </tr>\n",
       "    <tr>\n",
       "      <th>16712</th>\n",
       "      <td>Codename: Panzers Complete Collection</td>\n",
       "      <td>PC</td>\n",
       "      <td>Strategy</td>\n",
       "      <td>NaN</td>\n",
       "      <td>NaN</td>\n",
       "      <td>Unknown</td>\n",
       "      <td>72.086093</td>\n",
       "      <td>7.295177</td>\n",
       "      <td>72.086093</td>\n",
       "      <td>7.295177</td>\n",
       "    </tr>\n",
       "    <tr>\n",
       "      <th>16713</th>\n",
       "      <td>Hospital Tycoon</td>\n",
       "      <td>PC</td>\n",
       "      <td>Strategy</td>\n",
       "      <td>51.0</td>\n",
       "      <td>3.8</td>\n",
       "      <td>E10+</td>\n",
       "      <td>72.086093</td>\n",
       "      <td>7.295177</td>\n",
       "      <td>51.000000</td>\n",
       "      <td>3.800000</td>\n",
       "    </tr>\n",
       "    <tr>\n",
       "      <th>16714</th>\n",
       "      <td>End of Nations</td>\n",
       "      <td>PC</td>\n",
       "      <td>Strategy</td>\n",
       "      <td>NaN</td>\n",
       "      <td>NaN</td>\n",
       "      <td>T</td>\n",
       "      <td>72.086093</td>\n",
       "      <td>7.295177</td>\n",
       "      <td>72.086093</td>\n",
       "      <td>7.295177</td>\n",
       "    </tr>\n",
       "    <tr>\n",
       "      <th>16715</th>\n",
       "      <td>Worms 2</td>\n",
       "      <td>PC</td>\n",
       "      <td>Strategy</td>\n",
       "      <td>NaN</td>\n",
       "      <td>8.1</td>\n",
       "      <td>K-A</td>\n",
       "      <td>72.086093</td>\n",
       "      <td>7.295177</td>\n",
       "      <td>72.086093</td>\n",
       "      <td>8.100000</td>\n",
       "    </tr>\n",
       "    <tr>\n",
       "      <th>16716</th>\n",
       "      <td>STORM: Frontline Nation</td>\n",
       "      <td>PC</td>\n",
       "      <td>Strategy</td>\n",
       "      <td>60.0</td>\n",
       "      <td>7.2</td>\n",
       "      <td>E10+</td>\n",
       "      <td>72.086093</td>\n",
       "      <td>7.295177</td>\n",
       "      <td>60.000000</td>\n",
       "      <td>7.200000</td>\n",
       "    </tr>\n",
       "  </tbody>\n",
       "</table>\n",
       "<p>16717 rows × 10 columns</p>\n",
       "</div>"
      ],
      "text/plain": [
       "                                        Name Platform     Genre  Critic_Score  \\\n",
       "0                                 Wii Sports      Wii    Sports          76.0   \n",
       "1                          Wii Sports Resort      Wii    Sports          80.0   \n",
       "2                                    Wii Fit      Wii    Sports          80.0   \n",
       "3                               Wii Fit Plus      Wii    Sports          80.0   \n",
       "4                                    FIFA 16      PS4    Sports          82.0   \n",
       "...                                      ...      ...       ...           ...   \n",
       "16712  Codename: Panzers Complete Collection       PC  Strategy           NaN   \n",
       "16713                        Hospital Tycoon       PC  Strategy          51.0   \n",
       "16714                         End of Nations       PC  Strategy           NaN   \n",
       "16715                                Worms 2       PC  Strategy           NaN   \n",
       "16716                STORM: Frontline Nation       PC  Strategy          60.0   \n",
       "\n",
       "       User_Score   Rating  Ave_Critic_Score  Ave_User_Score  \\\n",
       "0             8.0        E         71.968174        6.961197   \n",
       "1             8.0        E         71.968174        6.961197   \n",
       "2             7.7        E         71.968174        6.961197   \n",
       "3             7.4        E         71.968174        6.961197   \n",
       "4             4.3        E         71.968174        6.961197   \n",
       "...           ...      ...               ...             ...   \n",
       "16712         NaN  Unknown         72.086093        7.295177   \n",
       "16713         3.8     E10+         72.086093        7.295177   \n",
       "16714         NaN        T         72.086093        7.295177   \n",
       "16715         8.1      K-A         72.086093        7.295177   \n",
       "16716         7.2     E10+         72.086093        7.295177   \n",
       "\n",
       "       Critic_Score_Upd  User_Score_Upd  \n",
       "0             76.000000        8.000000  \n",
       "1             80.000000        8.000000  \n",
       "2             80.000000        7.700000  \n",
       "3             80.000000        7.400000  \n",
       "4             82.000000        4.300000  \n",
       "...                 ...             ...  \n",
       "16712         72.086093        7.295177  \n",
       "16713         51.000000        3.800000  \n",
       "16714         72.086093        7.295177  \n",
       "16715         72.086093        8.100000  \n",
       "16716         60.000000        7.200000  \n",
       "\n",
       "[16717 rows x 10 columns]"
      ]
     },
     "execution_count": 8,
     "metadata": {},
     "output_type": "execute_result"
    }
   ],
   "source": [
    "video_games_filtered_df['Critic_Score_Upd'] = np.where(video_games_filtered_df['Critic_Score'].isna(), video_games_filtered_df['Ave_Critic_Score'], video_games_filtered_df['Critic_Score'])\n",
    "video_games_filtered_df['User_Score_Upd'] = np.where(video_games_filtered_df['User_Score'].isna(),  video_games_filtered_df['Ave_User_Score'], video_games_filtered_df['User_Score'])\n",
    "video_games_filtered_df"
   ]
  },
  {
   "attachments": {},
   "cell_type": "markdown",
   "metadata": {},
   "source": [
    "Check again if there are any features with missing values, excluding `Critic_Score` and `User_Score` since these features will be replaced by `Critic_Score_Upd` and `User_Score_Upd`"
   ]
  },
  {
   "cell_type": "code",
   "execution_count": 9,
   "metadata": {},
   "outputs": [
    {
     "data": {
      "text/plain": [
       "Name            0\n",
       "Platform        0\n",
       "Genre           0\n",
       "Rating          0\n",
       "Critic_Score    0\n",
       "User_Score      0\n",
       "dtype: int64"
      ]
     },
     "execution_count": 9,
     "metadata": {},
     "output_type": "execute_result"
    }
   ],
   "source": [
    "video_games_final_df = video_games_filtered_df.drop(columns=['User_Score', 'Critic_Score', 'Ave_Critic_Score', 'Ave_User_Score'], axis=1)\n",
    "video_games_final_df = video_games_final_df.rename(columns={'Critic_Score_Upd':'Critic_Score', 'User_Score_Upd':'User_Score'})\n",
    "video_games_final_df.isna().sum().sort_values(ascending=False)"
   ]
  },
  {
   "attachments": {},
   "cell_type": "markdown",
   "metadata": {},
   "source": [
    "Examine and compare the summary statistics of `User_Score` and `Critic_Score` and their respective new features (`User_Score_Upd` and `Critic_Score_Upd`) with imputed missing values. Below shows that filling in the missing values did not have an impact on the average of the data. The standard deviation of the critic score has gone down by around 4, as expected, and a marginal difference for user score."
   ]
  },
  {
   "cell_type": "code",
   "execution_count": 10,
   "metadata": {},
   "outputs": [
    {
     "data": {
      "text/html": [
       "<div>\n",
       "<style scoped>\n",
       "    .dataframe tbody tr th:only-of-type {\n",
       "        vertical-align: middle;\n",
       "    }\n",
       "\n",
       "    .dataframe tbody tr th {\n",
       "        vertical-align: top;\n",
       "    }\n",
       "\n",
       "    .dataframe thead th {\n",
       "        text-align: right;\n",
       "    }\n",
       "</style>\n",
       "<table border=\"1\" class=\"dataframe\">\n",
       "  <thead>\n",
       "    <tr style=\"text-align: right;\">\n",
       "      <th></th>\n",
       "      <th>Critic_Score</th>\n",
       "      <th>Critic_Score_Upd</th>\n",
       "      <th>User_Score</th>\n",
       "      <th>User_Score_Upd</th>\n",
       "    </tr>\n",
       "  </thead>\n",
       "  <tbody>\n",
       "    <tr>\n",
       "      <th>count</th>\n",
       "      <td>8137.000000</td>\n",
       "      <td>16717.000000</td>\n",
       "      <td>7590.000000</td>\n",
       "      <td>16717.000000</td>\n",
       "    </tr>\n",
       "    <tr>\n",
       "      <th>mean</th>\n",
       "      <td>68.967679</td>\n",
       "      <td>68.760119</td>\n",
       "      <td>7.125046</td>\n",
       "      <td>7.115051</td>\n",
       "    </tr>\n",
       "    <tr>\n",
       "      <th>std</th>\n",
       "      <td>13.938165</td>\n",
       "      <td>9.888363</td>\n",
       "      <td>1.500006</td>\n",
       "      <td>1.022320</td>\n",
       "    </tr>\n",
       "    <tr>\n",
       "      <th>min</th>\n",
       "      <td>13.000000</td>\n",
       "      <td>13.000000</td>\n",
       "      <td>0.000000</td>\n",
       "      <td>0.000000</td>\n",
       "    </tr>\n",
       "    <tr>\n",
       "      <th>25%</th>\n",
       "      <td>60.000000</td>\n",
       "      <td>66.619503</td>\n",
       "      <td>6.400000</td>\n",
       "      <td>6.961197</td>\n",
       "    </tr>\n",
       "    <tr>\n",
       "      <th>50%</th>\n",
       "      <td>71.000000</td>\n",
       "      <td>68.058350</td>\n",
       "      <td>7.500000</td>\n",
       "      <td>7.133000</td>\n",
       "    </tr>\n",
       "    <tr>\n",
       "      <th>75%</th>\n",
       "      <td>79.000000</td>\n",
       "      <td>72.652646</td>\n",
       "      <td>8.200000</td>\n",
       "      <td>7.600000</td>\n",
       "    </tr>\n",
       "    <tr>\n",
       "      <th>max</th>\n",
       "      <td>98.000000</td>\n",
       "      <td>98.000000</td>\n",
       "      <td>9.700000</td>\n",
       "      <td>9.700000</td>\n",
       "    </tr>\n",
       "  </tbody>\n",
       "</table>\n",
       "</div>"
      ],
      "text/plain": [
       "       Critic_Score  Critic_Score_Upd   User_Score  User_Score_Upd\n",
       "count   8137.000000      16717.000000  7590.000000    16717.000000\n",
       "mean      68.967679         68.760119     7.125046        7.115051\n",
       "std       13.938165          9.888363     1.500006        1.022320\n",
       "min       13.000000         13.000000     0.000000        0.000000\n",
       "25%       60.000000         66.619503     6.400000        6.961197\n",
       "50%       71.000000         68.058350     7.500000        7.133000\n",
       "75%       79.000000         72.652646     8.200000        7.600000\n",
       "max       98.000000         98.000000     9.700000        9.700000"
      ]
     },
     "execution_count": 10,
     "metadata": {},
     "output_type": "execute_result"
    }
   ],
   "source": [
    "video_games_filtered_df[['Critic_Score', 'Critic_Score_Upd',  'User_Score', 'User_Score_Upd']].describe()"
   ]
  },
  {
   "attachments": {},
   "cell_type": "markdown",
   "metadata": {},
   "source": [
    "Analyze the data distribution for `Critic_Score` and `User_Score`, and assess the correlation between these features."
   ]
  },
  {
   "cell_type": "code",
   "execution_count": 11,
   "metadata": {},
   "outputs": [
    {
     "data": {
      "image/png": "[encoded data removed]",
      "text/plain": [
       "<Figure size 600x400 with 1 Axes>"
      ]
     },
     "metadata": {},
     "output_type": "display_data"
    }
   ],
   "source": [
    "plt.figure(figsize=(6,4))\n",
    "plt.hist(video_games_final_df['Critic_Score'], bins=10)\n",
    "plt.xlabel('Critic Score')\n",
    "plt.ylabel('Frequency')\n",
    "plt.title(\"Critic Score Distribution for all Video Games\")\n",
    "plt.show()"
   ]
  },
  {
   "cell_type": "code",
   "execution_count": 12,
   "metadata": {},
   "outputs": [
    {
     "data": {
      "image/png": "[encoded data removed]",
      "text/plain": [
       "<Figure size 600x400 with 1 Axes>"
      ]
     },
     "metadata": {},
     "output_type": "display_data"
    }
   ],
   "source": [
    "plt.figure(figsize=(6,4))\n",
    "plt.hist(video_games_final_df['User_Score'], bins=10)\n",
    "plt.xlabel('User Score')\n",
    "plt.ylabel('Frequency')\n",
    "plt.title(\"User Score Distribution for all Video Games\")\n",
    "plt.show()"
   ]
  },
  {
   "cell_type": "code",
   "execution_count": 13,
   "metadata": {},
   "outputs": [
    {
     "data": {
      "text/plain": [
       "[Text(0.5, 0, 'User Score'),\n",
       " Text(0, 0.5, 'Critic Score'),\n",
       " Text(0.5, 1.0, 'User Scores vs. Critic Scores')]"
      ]
     },
     "execution_count": 13,
     "metadata": {},
     "output_type": "execute_result"
    },
    {
     "data": {
      "image/png": "[encoded data removed]",
      "text/plain": [
       "<Figure size 800x800 with 1 Axes>"
      ]
     },
     "metadata": {},
     "output_type": "display_data"
    }
   ],
   "source": [
    "plt.figure(figsize=(8, 8))\n",
    "ax = sns.regplot(x=video_games_final_df['User_Score'], y=video_games_final_df['Critic_Score'], line_kws={\"color\": \"black\"}, scatter_kws={'s': 4})\n",
    "ax.set(xlabel =\"User Score\", ylabel = \"Critic Score\", title=\"User Scores vs. Critic Scores\")"
   ]
  },
  {
   "attachments": {},
   "cell_type": "markdown",
   "metadata": {},
   "source": [
    "Perform a last verification of the dataframe details prior to transforming the categorical attributes into dummary indicators."
   ]
  },
  {
   "cell_type": "code",
   "execution_count": 14,
   "metadata": {},
   "outputs": [
    {
     "name": "stdout",
     "output_type": "stream",
     "text": [
      "<class 'pandas.core.frame.DataFrame'>\n",
      "Int64Index: 16717 entries, 0 to 16716\n",
      "Data columns (total 6 columns):\n",
      " #   Column        Non-Null Count  Dtype  \n",
      "---  ------        --------------  -----  \n",
      " 0   Name          16717 non-null  object \n",
      " 1   Platform      16717 non-null  object \n",
      " 2   Genre         16717 non-null  object \n",
      " 3   Rating        16717 non-null  object \n",
      " 4   Critic_Score  16717 non-null  float64\n",
      " 5   User_Score    16717 non-null  float64\n",
      "dtypes: float64(2), object(4)\n",
      "memory usage: 914.2+ KB\n"
     ]
    }
   ],
   "source": [
    "video_games_final_df.info()"
   ]
  },
  {
   "attachments": {},
   "cell_type": "markdown",
   "metadata": {},
   "source": [
    "### Converting Categorical Features to Dummy Indicators\n",
    "\n",
    "Get all categorical features"
   ]
  },
  {
   "cell_type": "code",
   "execution_count": 15,
   "metadata": {},
   "outputs": [
    {
     "name": "stdout",
     "output_type": "stream",
     "text": [
      "There are 4 categorical features:\n",
      "\n",
      "Name, Platform, Genre, Rating\n"
     ]
    }
   ],
   "source": [
    "categorical_columns = [name for name in video_games_final_df.columns if video_games_final_df[name].dtype=='O']\n",
    "\n",
    "print(f'There are {len(categorical_columns)} categorical features:\\n')\n",
    "print(\", \".join(categorical_columns))"
   ]
  },
  {
   "attachments": {},
   "cell_type": "markdown",
   "metadata": {},
   "source": [
    "Transform all categorical attributes into binary dummy variables where the value is 0 (representing No) or 1 (representing Yes)."
   ]
  },
  {
   "cell_type": "code",
   "execution_count": 16,
   "metadata": {},
   "outputs": [
    {
     "data": {
      "text/html": [
       "<div>\n",
       "<style scoped>\n",
       "    .dataframe tbody tr th:only-of-type {\n",
       "        vertical-align: middle;\n",
       "    }\n",
       "\n",
       "    .dataframe tbody tr th {\n",
       "        vertical-align: top;\n",
       "    }\n",
       "\n",
       "    .dataframe thead th {\n",
       "        text-align: right;\n",
       "    }\n",
       "</style>\n",
       "<table border=\"1\" class=\"dataframe\">\n",
       "  <thead>\n",
       "    <tr style=\"text-align: right;\">\n",
       "      <th></th>\n",
       "      <th>Name</th>\n",
       "      <th>Critic_Score</th>\n",
       "      <th>User_Score</th>\n",
       "      <th>Platform_2600</th>\n",
       "      <th>Platform_3DO</th>\n",
       "      <th>Platform_3DS</th>\n",
       "      <th>Platform_DC</th>\n",
       "      <th>Platform_DS</th>\n",
       "      <th>Platform_GB</th>\n",
       "      <th>Platform_GBA</th>\n",
       "      <th>...</th>\n",
       "      <th>Genre_Strategy</th>\n",
       "      <th>Rating_AO</th>\n",
       "      <th>Rating_E</th>\n",
       "      <th>Rating_E10+</th>\n",
       "      <th>Rating_EC</th>\n",
       "      <th>Rating_K-A</th>\n",
       "      <th>Rating_M</th>\n",
       "      <th>Rating_RP</th>\n",
       "      <th>Rating_T</th>\n",
       "      <th>Rating_Unknown</th>\n",
       "    </tr>\n",
       "  </thead>\n",
       "  <tbody>\n",
       "    <tr>\n",
       "      <th>0</th>\n",
       "      <td>Wii Sports</td>\n",
       "      <td>76.0</td>\n",
       "      <td>8.0</td>\n",
       "      <td>0</td>\n",
       "      <td>0</td>\n",
       "      <td>0</td>\n",
       "      <td>0</td>\n",
       "      <td>0</td>\n",
       "      <td>0</td>\n",
       "      <td>0</td>\n",
       "      <td>...</td>\n",
       "      <td>0</td>\n",
       "      <td>0</td>\n",
       "      <td>1</td>\n",
       "      <td>0</td>\n",
       "      <td>0</td>\n",
       "      <td>0</td>\n",
       "      <td>0</td>\n",
       "      <td>0</td>\n",
       "      <td>0</td>\n",
       "      <td>0</td>\n",
       "    </tr>\n",
       "    <tr>\n",
       "      <th>1</th>\n",
       "      <td>Wii Sports Resort</td>\n",
       "      <td>80.0</td>\n",
       "      <td>8.0</td>\n",
       "      <td>0</td>\n",
       "      <td>0</td>\n",
       "      <td>0</td>\n",
       "      <td>0</td>\n",
       "      <td>0</td>\n",
       "      <td>0</td>\n",
       "      <td>0</td>\n",
       "      <td>...</td>\n",
       "      <td>0</td>\n",
       "      <td>0</td>\n",
       "      <td>1</td>\n",
       "      <td>0</td>\n",
       "      <td>0</td>\n",
       "      <td>0</td>\n",
       "      <td>0</td>\n",
       "      <td>0</td>\n",
       "      <td>0</td>\n",
       "      <td>0</td>\n",
       "    </tr>\n",
       "    <tr>\n",
       "      <th>2</th>\n",
       "      <td>Wii Fit</td>\n",
       "      <td>80.0</td>\n",
       "      <td>7.7</td>\n",
       "      <td>0</td>\n",
       "      <td>0</td>\n",
       "      <td>0</td>\n",
       "      <td>0</td>\n",
       "      <td>0</td>\n",
       "      <td>0</td>\n",
       "      <td>0</td>\n",
       "      <td>...</td>\n",
       "      <td>0</td>\n",
       "      <td>0</td>\n",
       "      <td>1</td>\n",
       "      <td>0</td>\n",
       "      <td>0</td>\n",
       "      <td>0</td>\n",
       "      <td>0</td>\n",
       "      <td>0</td>\n",
       "      <td>0</td>\n",
       "      <td>0</td>\n",
       "    </tr>\n",
       "    <tr>\n",
       "      <th>3</th>\n",
       "      <td>Wii Fit Plus</td>\n",
       "      <td>80.0</td>\n",
       "      <td>7.4</td>\n",
       "      <td>0</td>\n",
       "      <td>0</td>\n",
       "      <td>0</td>\n",
       "      <td>0</td>\n",
       "      <td>0</td>\n",
       "      <td>0</td>\n",
       "      <td>0</td>\n",
       "      <td>...</td>\n",
       "      <td>0</td>\n",
       "      <td>0</td>\n",
       "      <td>1</td>\n",
       "      <td>0</td>\n",
       "      <td>0</td>\n",
       "      <td>0</td>\n",
       "      <td>0</td>\n",
       "      <td>0</td>\n",
       "      <td>0</td>\n",
       "      <td>0</td>\n",
       "    </tr>\n",
       "    <tr>\n",
       "      <th>4</th>\n",
       "      <td>FIFA 16</td>\n",
       "      <td>82.0</td>\n",
       "      <td>4.3</td>\n",
       "      <td>0</td>\n",
       "      <td>0</td>\n",
       "      <td>0</td>\n",
       "      <td>0</td>\n",
       "      <td>0</td>\n",
       "      <td>0</td>\n",
       "      <td>0</td>\n",
       "      <td>...</td>\n",
       "      <td>0</td>\n",
       "      <td>0</td>\n",
       "      <td>1</td>\n",
       "      <td>0</td>\n",
       "      <td>0</td>\n",
       "      <td>0</td>\n",
       "      <td>0</td>\n",
       "      <td>0</td>\n",
       "      <td>0</td>\n",
       "      <td>0</td>\n",
       "    </tr>\n",
       "  </tbody>\n",
       "</table>\n",
       "<p>5 rows × 55 columns</p>\n",
       "</div>"
      ],
      "text/plain": [
       "                Name  Critic_Score  User_Score  Platform_2600  Platform_3DO  \\\n",
       "0         Wii Sports          76.0         8.0              0             0   \n",
       "1  Wii Sports Resort          80.0         8.0              0             0   \n",
       "2            Wii Fit          80.0         7.7              0             0   \n",
       "3       Wii Fit Plus          80.0         7.4              0             0   \n",
       "4            FIFA 16          82.0         4.3              0             0   \n",
       "\n",
       "   Platform_3DS  Platform_DC  Platform_DS  Platform_GB  Platform_GBA  ...  \\\n",
       "0             0            0            0            0             0  ...   \n",
       "1             0            0            0            0             0  ...   \n",
       "2             0            0            0            0             0  ...   \n",
       "3             0            0            0            0             0  ...   \n",
       "4             0            0            0            0             0  ...   \n",
       "\n",
       "   Genre_Strategy  Rating_AO  Rating_E  Rating_E10+  Rating_EC  Rating_K-A  \\\n",
       "0               0          0         1            0          0           0   \n",
       "1               0          0         1            0          0           0   \n",
       "2               0          0         1            0          0           0   \n",
       "3               0          0         1            0          0           0   \n",
       "4               0          0         1            0          0           0   \n",
       "\n",
       "   Rating_M  Rating_RP  Rating_T  Rating_Unknown  \n",
       "0         0          0         0               0  \n",
       "1         0          0         0               0  \n",
       "2         0          0         0               0  \n",
       "3         0          0         0               0  \n",
       "4         0          0         0               0  \n",
       "\n",
       "[5 rows x 55 columns]"
      ]
     },
     "execution_count": 16,
     "metadata": {},
     "output_type": "execute_result"
    }
   ],
   "source": [
    "video_games_df_dummy = pd.get_dummies(data=video_games_final_df, columns=categorical_columns[1:])\n",
    "\n",
    "video_games_df_dummy.head(5)"
   ]
  },
  {
   "cell_type": "code",
   "execution_count": 17,
   "metadata": {},
   "outputs": [
    {
     "name": "stdout",
     "output_type": "stream",
     "text": [
      "<class 'pandas.core.frame.DataFrame'>\n",
      "Int64Index: 16717 entries, 0 to 16716\n",
      "Data columns (total 55 columns):\n",
      " #   Column              Non-Null Count  Dtype  \n",
      "---  ------              --------------  -----  \n",
      " 0   Name                16717 non-null  object \n",
      " 1   Critic_Score        16717 non-null  float64\n",
      " 2   User_Score          16717 non-null  float64\n",
      " 3   Platform_2600       16717 non-null  uint8  \n",
      " 4   Platform_3DO        16717 non-null  uint8  \n",
      " 5   Platform_3DS        16717 non-null  uint8  \n",
      " 6   Platform_DC         16717 non-null  uint8  \n",
      " 7   Platform_DS         16717 non-null  uint8  \n",
      " 8   Platform_GB         16717 non-null  uint8  \n",
      " 9   Platform_GBA        16717 non-null  uint8  \n",
      " 10  Platform_GC         16717 non-null  uint8  \n",
      " 11  Platform_GEN        16717 non-null  uint8  \n",
      " 12  Platform_GG         16717 non-null  uint8  \n",
      " 13  Platform_N64        16717 non-null  uint8  \n",
      " 14  Platform_NES        16717 non-null  uint8  \n",
      " 15  Platform_NG         16717 non-null  uint8  \n",
      " 16  Platform_PC         16717 non-null  uint8  \n",
      " 17  Platform_PCFX       16717 non-null  uint8  \n",
      " 18  Platform_PS         16717 non-null  uint8  \n",
      " 19  Platform_PS2        16717 non-null  uint8  \n",
      " 20  Platform_PS3        16717 non-null  uint8  \n",
      " 21  Platform_PS4        16717 non-null  uint8  \n",
      " 22  Platform_PSP        16717 non-null  uint8  \n",
      " 23  Platform_PSV        16717 non-null  uint8  \n",
      " 24  Platform_SAT        16717 non-null  uint8  \n",
      " 25  Platform_SCD        16717 non-null  uint8  \n",
      " 26  Platform_SNES       16717 non-null  uint8  \n",
      " 27  Platform_TG16       16717 non-null  uint8  \n",
      " 28  Platform_WS         16717 non-null  uint8  \n",
      " 29  Platform_Wii        16717 non-null  uint8  \n",
      " 30  Platform_WiiU       16717 non-null  uint8  \n",
      " 31  Platform_X360       16717 non-null  uint8  \n",
      " 32  Platform_XB         16717 non-null  uint8  \n",
      " 33  Platform_XOne       16717 non-null  uint8  \n",
      " 34  Genre_Action        16717 non-null  uint8  \n",
      " 35  Genre_Adventure     16717 non-null  uint8  \n",
      " 36  Genre_Fighting      16717 non-null  uint8  \n",
      " 37  Genre_Misc          16717 non-null  uint8  \n",
      " 38  Genre_Platform      16717 non-null  uint8  \n",
      " 39  Genre_Puzzle        16717 non-null  uint8  \n",
      " 40  Genre_Racing        16717 non-null  uint8  \n",
      " 41  Genre_Role-Playing  16717 non-null  uint8  \n",
      " 42  Genre_Shooter       16717 non-null  uint8  \n",
      " 43  Genre_Simulation    16717 non-null  uint8  \n",
      " 44  Genre_Sports        16717 non-null  uint8  \n",
      " 45  Genre_Strategy      16717 non-null  uint8  \n",
      " 46  Rating_AO           16717 non-null  uint8  \n",
      " 47  Rating_E            16717 non-null  uint8  \n",
      " 48  Rating_E10+         16717 non-null  uint8  \n",
      " 49  Rating_EC           16717 non-null  uint8  \n",
      " 50  Rating_K-A          16717 non-null  uint8  \n",
      " 51  Rating_M            16717 non-null  uint8  \n",
      " 52  Rating_RP           16717 non-null  uint8  \n",
      " 53  Rating_T            16717 non-null  uint8  \n",
      " 54  Rating_Unknown      16717 non-null  uint8  \n",
      "dtypes: float64(2), object(1), uint8(52)\n",
      "memory usage: 1.3+ MB\n"
     ]
    }
   ],
   "source": [
    "video_games_df_dummy.info()"
   ]
  },
  {
   "attachments": {},
   "cell_type": "markdown",
   "metadata": {},
   "source": [
    "### Standardizing the Features"
   ]
  },
  {
   "cell_type": "code",
   "execution_count": 18,
   "metadata": {},
   "outputs": [
    {
     "data": {
      "text/html": [
       "<div>\n",
       "<style scoped>\n",
       "    .dataframe tbody tr th:only-of-type {\n",
       "        vertical-align: middle;\n",
       "    }\n",
       "\n",
       "    .dataframe tbody tr th {\n",
       "        vertical-align: top;\n",
       "    }\n",
       "\n",
       "    .dataframe thead th {\n",
       "        text-align: right;\n",
       "    }\n",
       "</style>\n",
       "<table border=\"1\" class=\"dataframe\">\n",
       "  <thead>\n",
       "    <tr style=\"text-align: right;\">\n",
       "      <th></th>\n",
       "      <th>Critic_Score</th>\n",
       "      <th>User_Score</th>\n",
       "      <th>Platform_2600</th>\n",
       "      <th>Platform_3DO</th>\n",
       "      <th>Platform_3DS</th>\n",
       "      <th>Platform_DC</th>\n",
       "      <th>Platform_DS</th>\n",
       "      <th>Platform_GB</th>\n",
       "      <th>Platform_GBA</th>\n",
       "      <th>Platform_GC</th>\n",
       "      <th>...</th>\n",
       "      <th>Genre_Strategy</th>\n",
       "      <th>Rating_AO</th>\n",
       "      <th>Rating_E</th>\n",
       "      <th>Rating_E10+</th>\n",
       "      <th>Rating_EC</th>\n",
       "      <th>Rating_K-A</th>\n",
       "      <th>Rating_M</th>\n",
       "      <th>Rating_RP</th>\n",
       "      <th>Rating_T</th>\n",
       "      <th>Rating_Unknown</th>\n",
       "    </tr>\n",
       "  </thead>\n",
       "  <tbody>\n",
       "    <tr>\n",
       "      <th>0</th>\n",
       "      <td>0.732184</td>\n",
       "      <td>0.865654</td>\n",
       "      <td>-0.089553</td>\n",
       "      <td>-0.013397</td>\n",
       "      <td>-0.179178</td>\n",
       "      <td>-0.05586</td>\n",
       "      <td>-0.384385</td>\n",
       "      <td>-0.076791</td>\n",
       "      <td>-0.227408</td>\n",
       "      <td>-0.185483</td>\n",
       "      <td>...</td>\n",
       "      <td>-0.20639</td>\n",
       "      <td>-0.007735</td>\n",
       "      <td>1.785686</td>\n",
       "      <td>-0.304678</td>\n",
       "      <td>-0.021881</td>\n",
       "      <td>-0.013397</td>\n",
       "      <td>-0.321156</td>\n",
       "      <td>-0.013397</td>\n",
       "      <td>-0.463952</td>\n",
       "      <td>-0.824682</td>\n",
       "    </tr>\n",
       "    <tr>\n",
       "      <th>1</th>\n",
       "      <td>1.136712</td>\n",
       "      <td>0.865654</td>\n",
       "      <td>-0.089553</td>\n",
       "      <td>-0.013397</td>\n",
       "      <td>-0.179178</td>\n",
       "      <td>-0.05586</td>\n",
       "      <td>-0.384385</td>\n",
       "      <td>-0.076791</td>\n",
       "      <td>-0.227408</td>\n",
       "      <td>-0.185483</td>\n",
       "      <td>...</td>\n",
       "      <td>-0.20639</td>\n",
       "      <td>-0.007735</td>\n",
       "      <td>1.785686</td>\n",
       "      <td>-0.304678</td>\n",
       "      <td>-0.021881</td>\n",
       "      <td>-0.013397</td>\n",
       "      <td>-0.321156</td>\n",
       "      <td>-0.013397</td>\n",
       "      <td>-0.463952</td>\n",
       "      <td>-0.824682</td>\n",
       "    </tr>\n",
       "    <tr>\n",
       "      <th>2</th>\n",
       "      <td>1.136712</td>\n",
       "      <td>0.572195</td>\n",
       "      <td>-0.089553</td>\n",
       "      <td>-0.013397</td>\n",
       "      <td>-0.179178</td>\n",
       "      <td>-0.05586</td>\n",
       "      <td>-0.384385</td>\n",
       "      <td>-0.076791</td>\n",
       "      <td>-0.227408</td>\n",
       "      <td>-0.185483</td>\n",
       "      <td>...</td>\n",
       "      <td>-0.20639</td>\n",
       "      <td>-0.007735</td>\n",
       "      <td>1.785686</td>\n",
       "      <td>-0.304678</td>\n",
       "      <td>-0.021881</td>\n",
       "      <td>-0.013397</td>\n",
       "      <td>-0.321156</td>\n",
       "      <td>-0.013397</td>\n",
       "      <td>-0.463952</td>\n",
       "      <td>-0.824682</td>\n",
       "    </tr>\n",
       "    <tr>\n",
       "      <th>3</th>\n",
       "      <td>1.136712</td>\n",
       "      <td>0.278736</td>\n",
       "      <td>-0.089553</td>\n",
       "      <td>-0.013397</td>\n",
       "      <td>-0.179178</td>\n",
       "      <td>-0.05586</td>\n",
       "      <td>-0.384385</td>\n",
       "      <td>-0.076791</td>\n",
       "      <td>-0.227408</td>\n",
       "      <td>-0.185483</td>\n",
       "      <td>...</td>\n",
       "      <td>-0.20639</td>\n",
       "      <td>-0.007735</td>\n",
       "      <td>1.785686</td>\n",
       "      <td>-0.304678</td>\n",
       "      <td>-0.021881</td>\n",
       "      <td>-0.013397</td>\n",
       "      <td>-0.321156</td>\n",
       "      <td>-0.013397</td>\n",
       "      <td>-0.463952</td>\n",
       "      <td>-0.824682</td>\n",
       "    </tr>\n",
       "    <tr>\n",
       "      <th>4</th>\n",
       "      <td>1.338976</td>\n",
       "      <td>-2.753672</td>\n",
       "      <td>-0.089553</td>\n",
       "      <td>-0.013397</td>\n",
       "      <td>-0.179178</td>\n",
       "      <td>-0.05586</td>\n",
       "      <td>-0.384385</td>\n",
       "      <td>-0.076791</td>\n",
       "      <td>-0.227408</td>\n",
       "      <td>-0.185483</td>\n",
       "      <td>...</td>\n",
       "      <td>-0.20639</td>\n",
       "      <td>-0.007735</td>\n",
       "      <td>1.785686</td>\n",
       "      <td>-0.304678</td>\n",
       "      <td>-0.021881</td>\n",
       "      <td>-0.013397</td>\n",
       "      <td>-0.321156</td>\n",
       "      <td>-0.013397</td>\n",
       "      <td>-0.463952</td>\n",
       "      <td>-0.824682</td>\n",
       "    </tr>\n",
       "  </tbody>\n",
       "</table>\n",
       "<p>5 rows × 54 columns</p>\n",
       "</div>"
      ],
      "text/plain": [
       "   Critic_Score  User_Score  Platform_2600  Platform_3DO  Platform_3DS  \\\n",
       "0      0.732184    0.865654      -0.089553     -0.013397     -0.179178   \n",
       "1      1.136712    0.865654      -0.089553     -0.013397     -0.179178   \n",
       "2      1.136712    0.572195      -0.089553     -0.013397     -0.179178   \n",
       "3      1.136712    0.278736      -0.089553     -0.013397     -0.179178   \n",
       "4      1.338976   -2.753672      -0.089553     -0.013397     -0.179178   \n",
       "\n",
       "   Platform_DC  Platform_DS  Platform_GB  Platform_GBA  Platform_GC  ...  \\\n",
       "0     -0.05586    -0.384385    -0.076791     -0.227408    -0.185483  ...   \n",
       "1     -0.05586    -0.384385    -0.076791     -0.227408    -0.185483  ...   \n",
       "2     -0.05586    -0.384385    -0.076791     -0.227408    -0.185483  ...   \n",
       "3     -0.05586    -0.384385    -0.076791     -0.227408    -0.185483  ...   \n",
       "4     -0.05586    -0.384385    -0.076791     -0.227408    -0.185483  ...   \n",
       "\n",
       "   Genre_Strategy  Rating_AO  Rating_E  Rating_E10+  Rating_EC  Rating_K-A  \\\n",
       "0        -0.20639  -0.007735  1.785686    -0.304678  -0.021881   -0.013397   \n",
       "1        -0.20639  -0.007735  1.785686    -0.304678  -0.021881   -0.013397   \n",
       "2        -0.20639  -0.007735  1.785686    -0.304678  -0.021881   -0.013397   \n",
       "3        -0.20639  -0.007735  1.785686    -0.304678  -0.021881   -0.013397   \n",
       "4        -0.20639  -0.007735  1.785686    -0.304678  -0.021881   -0.013397   \n",
       "\n",
       "   Rating_M  Rating_RP  Rating_T  Rating_Unknown  \n",
       "0 -0.321156  -0.013397 -0.463952       -0.824682  \n",
       "1 -0.321156  -0.013397 -0.463952       -0.824682  \n",
       "2 -0.321156  -0.013397 -0.463952       -0.824682  \n",
       "3 -0.321156  -0.013397 -0.463952       -0.824682  \n",
       "4 -0.321156  -0.013397 -0.463952       -0.824682  \n",
       "\n",
       "[5 rows x 54 columns]"
      ]
     },
     "execution_count": 18,
     "metadata": {},
     "output_type": "execute_result"
    }
   ],
   "source": [
    "features = video_games_df_dummy.drop(columns=['Name'], axis=1)\n",
    "\n",
    "scale = StandardScaler()\n",
    "scaled_features = scale.fit_transform(features)\n",
    "scaled_features = pd.DataFrame(scaled_features, columns=features.columns)\n",
    "\n",
    "scaled_features.head(5)"
   ]
  },
  {
   "attachments": {},
   "cell_type": "markdown",
   "metadata": {},
   "source": [
    "### Creating a Model\n",
    "\n",
    "We will use `NearestNeighbors` model to find similar items. It is a machine learning algorithm that belongs to the category of unsupervised learning algorithms, which is used for finding the k-nearest neighbors of a data point or a set of data points in a given dataset."
   ]
  },
  {
   "cell_type": "code",
   "execution_count": 19,
   "metadata": {},
   "outputs": [
    {
     "name": "stdout",
     "output_type": "stream",
     "text": [
      "NearestNeighbors(algorithm='ball_tree', n_neighbors=10)\n"
     ]
    }
   ],
   "source": [
    "nn = NearestNeighbors(n_neighbors=10, algorithm='ball_tree').fit(scaled_features)\n",
    "print(nn)\n",
    "\n",
    "distances, indices = nn.kneighbors(scaled_features)"
   ]
  },
  {
   "attachments": {},
   "cell_type": "markdown",
   "metadata": {},
   "source": [
    "### Testing the Model"
   ]
  },
  {
   "cell_type": "code",
   "execution_count": 30,
   "metadata": {},
   "outputs": [],
   "source": [
    "def VideoGameRecommender(video_game_name, video_game_platform=None):\n",
    "\n",
    "    if video_game_platform == None:\n",
    "        video_game_idx = video_games_final_df.query(\"Name == @video_game_named\").index\n",
    "    else:\n",
    "        video_game_idx = video_games_final_df.query(\"Name == @video_game_name & Platform == @video_game_platform\").index\n",
    "\n",
    "    if video_game_idx.empty:\n",
    "        print(f\"The game '{video_game_name}' under platform '{video_game_platform}' doesn't exist in the records.\")\n",
    "        return None\n",
    "\n",
    "    else :\n",
    "        print(f\"Top 10 Recommended Video Games for '{video_game_name}' (platform:{video_game_platform})\\n\")\n",
    "\n",
    "        for idx, newid in enumerate(indices[video_game_idx[0]]):\n",
    "            print(f\"{idx+1}. {video_games_final_df.loc[newid].Name}\")"
   ]
  },
  {
   "cell_type": "code",
   "execution_count": 21,
   "metadata": {},
   "outputs": [
    {
     "name": "stdout",
     "output_type": "stream",
     "text": [
      "Top 10 Recommended Video Games for 'Call of Duty: Advanced Warfare' (platform:XOne)\n",
      "\n",
      "1. Call of Duty: Advanced Warfare\n",
      "2. Evolve\n",
      "3. Gears of War 4\n",
      "4. Battlefield: Hardline\n",
      "5. Titanfall\n",
      "6. Call of Duty: Ghosts\n",
      "7. Battlefield 4\n",
      "8. Tom Clancy's The Division\n",
      "9. Tom Clancy's Rainbow Six: Siege\n",
      "10. Halo: The Master Chief Collection\n"
     ]
    }
   ],
   "source": [
    "VideoGameRecommender('Call of Duty: Advanced Warfare', 'XOne')"
   ]
  },
  {
   "cell_type": "code",
   "execution_count": 22,
   "metadata": {},
   "outputs": [
    {
     "name": "stdout",
     "output_type": "stream",
     "text": [
      "The game 'Wii Sports' under platform 'XOne' doesn't exist in the records.\n"
     ]
    }
   ],
   "source": [
    "VideoGameRecommender('Wii Sports', 'XOne')"
   ]
  },
  {
   "attachments": {},
   "cell_type": "markdown",
   "metadata": {},
   "source": [
    "Test games and/platform that is not included in the dataset to train the predictive model"
   ]
  },
  {
   "cell_type": "code",
   "execution_count": 23,
   "metadata": {},
   "outputs": [
    {
     "name": "stdout",
     "output_type": "stream",
     "text": [
      "The game 'Wii Sport IV' under platform 'Wii' doesn't exist in the records.\n"
     ]
    }
   ],
   "source": [
    "VideoGameRecommender('Wii Sport IV', 'Wii')"
   ]
  },
  {
   "cell_type": "code",
   "execution_count": 29,
   "metadata": {},
   "outputs": [
    {
     "name": "stdout",
     "output_type": "stream",
     "text": [
      "Top 10 Recommended Video Games for 'Diablo III' (platform:PC)\n",
      "\n",
      "1. Diablo III\n",
      "2. Fallout 4\n",
      "3. Mass Effect 3\n",
      "4. Dragon Age: Inquisition\n",
      "5. Fable III\n",
      "6. Deus Ex: Mankind Divided\n",
      "7. The Elder Scrolls Online\n",
      "8. Risen 2: Dark Waters\n",
      "9. Kingdoms of Amalur: Reckoning\n",
      "10. Two Worlds II\n"
     ]
    }
   ],
   "source": [
    "VideoGameRecommender('Diablo III', 'PC')"
   ]
  },
  {
   "cell_type": "code",
   "execution_count": 31,
   "metadata": {},
   "outputs": [
    {
     "name": "stdout",
     "output_type": "stream",
     "text": [
      "Top 10 Recommended Video Games for 'Diablo III' (platform:XOne)\n",
      "\n",
      "1. Diablo III\n",
      "2. Dark Souls II\n",
      "3. The Elder Scrolls V: Skyrim\n",
      "4. Divinity: Original Sin\n",
      "5. Final Fantasy Type-0\n",
      "6. Dark Souls III\n",
      "7. The Technomancer\n",
      "8. Wasteland 2\n",
      "9. The Elder Scrolls Online\n",
      "10. Lords of the Fallen\n"
     ]
    }
   ],
   "source": [
    "VideoGameRecommender('Diablo III', 'XOne')"
   ]
  },
  {
   "attachments": {},
   "cell_type": "markdown",
   "metadata": {},
   "source": [
    "### References\n",
    "\n",
    "1. https://www.kaggle.com/datasets/rush4ratio/video-game-sales-with-ratings\n",
    "2. https://thecleverprogrammer.com/2021/01/17/book-recommendation-system/"
   ]
  },
  {
   "attachments": {},
   "cell_type": "markdown",
   "metadata": {},
   "source": [
    "> BDM-3014 Winter 2023 Project (Group 12)"
   ]
  }
 ],
 "metadata": {
  "kernelspec": {
   "display_name": "Python 3",
   "language": "python",
   "name": "python3"
  },
  "language_info": {
   "codemirror_mode": {
    "name": "ipython",
    "version": 3
   },
   "file_extension": ".py",
   "mimetype": "text/x-python",
   "name": "python",
   "nbconvert_exporter": "python",
   "pygments_lexer": "ipython3",
   "version": "3.10.7"
  },
  "orig_nbformat": 4
 },
 "nbformat": 4,
 "nbformat_minor": 2
}
